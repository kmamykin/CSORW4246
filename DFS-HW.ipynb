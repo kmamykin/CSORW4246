{
 "cells": [
  {
   "cell_type": "markdown",
   "metadata": {},
   "source": [
    "# Connected Components\n",
    "\n",
    "The purpose of this assignment is to familiarize yourself with the handling of graph data structures. You will implement depth-first search for identifying the connected components of an undirected graph, implementing procedure Search as a subroutine along the way.\n",
    "\n",
    "You will use the [NetworkX](https://networkx.github.io/) Python package to represent and manipulate graphs. You should first familiarize yourself with its functionality by going through the brief [tutorial](http://networkx.github.io/documentation/networkx-1.9.1/tutorial/index.html). For this homework, you may only use the basic undirected graph methods listed [here](http://networkx.github.io/documentation/networkx-1.9.1/reference/classes.graph.html).\n",
    "\n",
    "As a use case, we will work with a dataset recording the interactions between characters in Homer's *Iliad*."
   ]
  },
  {
   "cell_type": "code",
   "execution_count": 1,
   "metadata": {},
   "outputs": [],
   "source": [
    "import networkx\n",
    "import urllib2\n",
    "homer = urllib2.urlopen('http://people.sc.fsu.edu/~jburkardt/datasets/sgb/homer.dat')"
   ]
  },
  {
   "cell_type": "markdown",
   "metadata": {},
   "source": [
    "The format of the data is straightforward. After some comment lines (beginning with \\*), the file lists a codename for each character (i.e., node of the graph), followed by a description. The file then lists the groups of characters that interact in each chapter, from which you will form the edges. For instance, the first line has the form:\n",
    "\n",
    "```1:CH,AG,ME,GS;AP,CH;HE,AC;AC,AG,CA;HE,AT;AT,AC;AT,OG;NE,AG,AC;CS,OD```\n",
    "\n",
    "This means that CH,AG,ME,GS interacted, so there are edges for all pairs of these nodes. Groups of characters that interacted are separated by semicolons. The lines start with chapter information of the form `1:` or `&:`, which can be ignored for this problem."
   ]
  },
  {
   "cell_type": "markdown",
   "metadata": {},
   "source": [
    "First implement a function to read in the nodes from the input file. You may implement any auxiliary functions as needed, and are encouraged to use small functions with specific purposes to keep your code readable. Any function you implement should be clearly commented."
   ]
  },
  {
   "cell_type": "markdown",
   "metadata": {},
   "source": [
    "Next implement a function to read in the edges from the input file."
   ]
  },
  {
   "cell_type": "code",
   "execution_count": 2,
   "metadata": {},
   "outputs": [],
   "source": [
    "def is_comment(line):\n",
    "    \"\"\"Returns: True if a line is considered a comment, i.e. starts with an asterisk\"\"\"\n",
    "    return line.startswith('*')\n",
    "\n",
    "def is_blank(line):\n",
    "    \"\"\"Returns: True if a line is blank, i.e. does not contain any characters except white space\"\"\"\n",
    "    return len(line.strip()) == 0\n",
    "\n",
    "def character_id(line):\n",
    "    \"\"\"Returns: character ID, which is the first word in the line of character description\"\"\"\n",
    "    chunks = line.split(' ') # split on white space\n",
    "    assert len(chunks) > 0, \"Invalid character description\"\n",
    "    return chunks[0].strip()\n",
    "\n",
    "def read_nodes(gfile):\n",
    "    \"\"\"Reads in the nodes of the graph from the input file.\n",
    "    \n",
    "    Args:\n",
    "        gfile: A handle for the file containing the graph data, starting at the top.\n",
    "        \n",
    "    Returns:\n",
    "        A generator of the nodes in the graph, yielding a list of the form:\n",
    "            ['CH', 'AG, 'ME', ...]\n",
    "    \"\"\"\n",
    "    # NOTE: read_nodes MUST be called first after urllib2.open\n",
    "    # 'for line in gfile' is an idiomatic lazy iterator over lines in a file \n",
    "    # (content of the http response in this case). The function terminates when a blank line is encountered,\n",
    "    # and does not read all lines in the file.\n",
    "    for line in gfile:\n",
    "        # Skip over comment lines\n",
    "        if is_comment(line): continue\n",
    "        # Stop iteration once a blank like encountered\n",
    "        if is_blank(line): break\n",
    "        # Otherwise yield a character id\n",
    "        yield character_id(line)"
   ]
  },
  {
   "cell_type": "code",
   "execution_count": 3,
   "metadata": {},
   "outputs": [],
   "source": [
    "# This is a reimplementation of itertools.combinations(list, 2), only included here bacause of the \n",
    "# requirement not to import additional modules.\n",
    "def combinations(items):\n",
    "    \"\"\"\n",
    "    Args: items - a list of items (must be unique items)\n",
    "    Returns: generator of tuples (X, Y) where each pair of X, Y is an n choose 2 combination from the items list.\n",
    "    \"\"\"\n",
    "    for first_item_idx in range(len(items)):\n",
    "        for second_item_idx in range(first_item_idx+1, len(items)):\n",
    "            yield (items[first_item_idx], items[second_item_idx])\n",
    "    \n",
    "def is_chapter_interactions(line):\n",
    "    \"\"\"Check if the line conforms to the character interaction line format '##: ...' or '&: ...'\n",
    "    Returns: True or False\n",
    "    \"\"\"\n",
    "    # The logic is to split by : and check that it results in only 2 chunks,\n",
    "    # with the first chunk being & char or a digit\n",
    "    chunks = line.split(':')\n",
    "    return len(chunks) == 2 and (chunks[0] == '&' or chunks[0].isdigit())\n",
    "\n",
    "def each_interaction_group(line):\n",
    "    \"\"\"Parses a chapter interaction line\n",
    "    Returns: generator of character interaction groups (arrays).\n",
    "    Example: For a line '&:TH,ZE,HE;ZE,HE;HE,HP;HP,OG;HP,ZE;OG' will yield the following sequence:\n",
    "        [TH,ZE,HE], [ZE,HE], [HE,HP], [HP,OG], [HP,ZE], [OG]\n",
    "    \"\"\"\n",
    "    groups = line.split(':')[1].strip()\n",
    "    for group in groups.split(';'):\n",
    "        yield group.split(',')\n",
    "\n",
    "def read_edges(gfile):\n",
    "    \"\"\"Reads in the edges of the graph from the input file.\n",
    "    \n",
    "    Args:\n",
    "        gfile: A handle for the file containing the graph data, starting at the top \n",
    "            of the edges section.\n",
    "            \n",
    "    Returns:\n",
    "        A generator of the edges in the graph, yielding a list of pairs of the form:\n",
    "            [('CH', 'AG'), ('AG', 'ME'), ...]\n",
    "    \"\"\"\n",
    "    for line in gfile:\n",
    "        # skip lines that are not chapter lines\n",
    "        if not is_chapter_interactions(line): continue\n",
    "        for group in each_interaction_group(line):\n",
    "            # group here is an array of interacting characters\n",
    "            # Loop through all combinations in the group, since an edge should be defined \n",
    "            # for each pair of interactions\n",
    "            for interaction_pair in combinations(group):\n",
    "                yield interaction_pair"
   ]
  },
  {
   "cell_type": "markdown",
   "metadata": {},
   "source": [
    "The following code should now correctly create the graph."
   ]
  },
  {
   "cell_type": "code",
   "execution_count": 4,
   "metadata": {},
   "outputs": [],
   "source": [
    "import networkx as nx\n",
    "G = nx.Graph()\n",
    "G.add_nodes_from(read_nodes(homer))\n",
    "G.add_edges_from(read_edges(homer))"
   ]
  },
  {
   "cell_type": "markdown",
   "metadata": {},
   "source": [
    "Next implement procedure Search. The function takes in a graph and a root node, and returns a list of the nodes visited during the search. The nodes should appear in the order in which they were *first visited*. The neighbors of a node should be processed in *alphabetical order*, where numbers come before letters. This will ensure that the output of your function is uniquely defined, given any input node."
   ]
  },
  {
   "cell_type": "code",
   "execution_count": 5,
   "metadata": {},
   "outputs": [],
   "source": [
    "def unexplored_dict(graph):\n",
    "    \"\"\"\n",
    "    Returns: dictionary with graph nodes as keys and False as values == all nodes are un-explored\n",
    "    \"\"\"\n",
    "    return {node: False for node in graph.nodes}\n",
    "\n",
    "explored = unexplored_dict(G)\n",
    "\n",
    "def Search(graph, root):\n",
    "    \"\"\"Runs Search from vertex root in a graph. Neighboring nodes are processed in alphabetical order.\n",
    "    \n",
    "    Args:\n",
    "        graph: the given graph, with nodes encoded as strings.\n",
    "        root: the node from which to start the search.\n",
    "        \n",
    "    Returns:\n",
    "        A list of nodes in the order in which they were first visited.\n",
    "    \"\"\"\n",
    "    # not the best pactice to use globals, but given the fixed parameters and returns of Search function\n",
    "    # this is the only way to share state between connected_components and multiple Search invocations.\n",
    "    global explored \n",
    "    # previsit(root)\n",
    "    explored[root] = True  \n",
    "    visited_nodes = [root]\n",
    "    for node in sorted(graph.adj[root]):\n",
    "        if not explored[node]:\n",
    "            visited_nodes = visited_nodes + Search(graph, node)\n",
    "    # postvisit(root)\n",
    "    return visited_nodes"
   ]
  },
  {
   "cell_type": "markdown",
   "metadata": {},
   "source": [
    "We will check the correctness of your code by verifying that it correctly computes the DFS tree starting at Ulysses (node `OD`)."
   ]
  },
  {
   "cell_type": "code",
   "execution_count": 6,
   "metadata": {},
   "outputs": [],
   "source": [
    "ulysses = Search(G, 'OD')"
   ]
  },
  {
   "cell_type": "markdown",
   "metadata": {},
   "source": [
    "Next implement DFS to find the connected components of the character graph. When choosing roots for your components, always pick the *smallest unvisited node* according to alphabetical ordering. Combined with your Search routine, this will ensure that the output is again uniquely defined."
   ]
  },
  {
   "cell_type": "code",
   "execution_count": 7,
   "metadata": {},
   "outputs": [],
   "source": [
    "def connected_components(graph):\n",
    "    \"\"\"Computes the connected components of the given graph.\n",
    "    \n",
    "    Args: \n",
    "        graph: the given graph, with nodes encoded as strings.\n",
    "        \n",
    "    Returns:\n",
    "        The connected components of the graph. Components are listed in\n",
    "        alphabetical order of their root nodes.\n",
    "    \"\"\"\n",
    "    global explored\n",
    "    explored = unexplored_dict(G) # this is O(n)\n",
    "    components = []\n",
    "    # Sorting list of nodes to be deterministic in output\n",
    "    for node in sorted(graph.nodes): # O(n log n)\n",
    "        if not explored[node]:\n",
    "            components.append(Search(G, node))\n",
    "    return components"
   ]
  },
  {
   "cell_type": "markdown",
   "metadata": {},
   "source": [
    "We will check correctness of your code by verifying that your output list is identical to our solution."
   ]
  },
  {
   "cell_type": "code",
   "execution_count": 8,
   "metadata": {},
   "outputs": [],
   "source": [
    "character_interactions = connected_components(G)"
   ]
  },
  {
   "cell_type": "markdown",
   "metadata": {},
   "source": [
    "As a preliminary check, you should find that the following statements are all true."
   ]
  },
  {
   "cell_type": "code",
   "execution_count": 9,
   "metadata": {},
   "outputs": [
    {
     "name": "stdout",
     "output_type": "stream",
     "text": [
      "There are 12 connected components in the Iliad: True\n",
      "The giant component has size 542: True\n",
      "There are 5 isolated characters: True\n"
     ]
    }
   ],
   "source": [
    "component_sizes = [len(c) for c in character_interactions]\n",
    "print \"There are 12 connected components in the Iliad:\", len(component_sizes) == 12\n",
    "print \"The giant component has size 542:\", max(component_sizes) == 542\n",
    "print \"There are 5 isolated characters:\", len([c for c in component_sizes if c == 1]) == 5"
   ]
  }
 ],
 "metadata": {
  "kernelspec": {
   "display_name": "Python 2",
   "language": "python",
   "name": "python2"
  },
  "language_info": {
   "codemirror_mode": {
    "name": "ipython",
    "version": 2
   },
   "file_extension": ".py",
   "mimetype": "text/x-python",
   "name": "python",
   "nbconvert_exporter": "python",
   "pygments_lexer": "ipython2",
   "version": "2.7.15"
  }
 },
 "nbformat": 4,
 "nbformat_minor": 1
}
