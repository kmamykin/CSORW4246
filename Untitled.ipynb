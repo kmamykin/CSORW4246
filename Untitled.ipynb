{
 "cells": [
  {
   "cell_type": "code",
   "execution_count": 6,
   "metadata": {},
   "outputs": [
    {
     "name": "stdout",
     "output_type": "stream",
     "text": [
      "{'a': {'c': 0}, 'c': {'y': 0}, 'b': {'c': 0, 'd': 0}, 'e': {'y': 0}, 'd': {'e': 0}, 'y': {}, 'x': {'a': 0, 'b': 1.0}}\n",
      "['a', 'c', 'b', 'e', 'd', 'y', 'x']\n",
      "['a', 'c', 'b', 'e', 'd', 'y', 'x']\n"
     ]
    }
   ],
   "source": [
    "import networkx as nx\n",
    "G = nx.DiGraph()\n",
    "G.add_edge('x','a', capacity=3.0)\n",
    "G.add_edge('x','b', capacity=1.0)\n",
    "G.add_edge('a','c', capacity=3.0)\n",
    "G.add_edge('b','c', capacity=5.0)\n",
    "G.add_edge('b','d', capacity=4.0)\n",
    "G.add_edge('d','e', capacity=2.0)\n",
    "G.add_edge('c','y', capacity=2.0)\n",
    "G.add_edge('e','y', capacity=3.0)\n",
    "flow_value, flow_dict = nx.maximum_flow(G, 'x', 'b')\n",
    "print(flow_dict)\n",
    "print(G.nodes())\n",
    "print(flow_dict.keys())"
   ]
  },
  {
   "cell_type": "code",
   "execution_count": 7,
   "metadata": {},
   "outputs": [
    {
     "data": {
      "text/plain": [
       "inf"
      ]
     },
     "execution_count": 7,
     "metadata": {},
     "output_type": "execute_result"
    }
   ],
   "source": [
    "float(\"inf\")"
   ]
  },
  {
   "cell_type": "code",
   "execution_count": null,
   "metadata": {},
   "outputs": [],
   "source": [
    "# REMOVE ME\n",
    "import matplotlib.pyplot as plt\n",
    "%matplotlib inline\n",
    "\n",
    "def plot_graph(G):\n",
    "    plt.figure(figsize=(10,10))\n",
    "    nodes_to_dist = nx.single_source_shortest_path_length(G,'CA')\n",
    "    inverted = ((v, k) for k, v in nodes_to_dist.iteritems())\n",
    "    def upsert(d, (k,v)):\n",
    "        if k in d:\n",
    "            l = d[k]\n",
    "            l.append(v)\n",
    "            d.update({k : l})  \n",
    "        else: \n",
    "            d.update({k : [v]})\n",
    "        return d\n",
    "    inverted_dict = reduce(upsert, inverted, {})\n",
    "    shells = [inverted_dict[k] for k in sorted(inverted_dict.keys())]\n",
    "    #print(inverted_dict)\n",
    "    #print(shells)\n",
    "    pos=nx.shell_layout(G, shells) # positions for all nodes\n",
    "    \n",
    "    #pos=nx.spring_layout(G) # positions for all nodes\n",
    "    # nodes\n",
    "    nx.draw_networkx_nodes(G, pos, node_size=500)\n",
    "\n",
    "    # edges\n",
    "    nx.draw_networkx_edges(G, pos, edgelist=G.edges(data=True), width=1, style='dashed')\n",
    "    #nx.draw_networkx_edges(G,pos,edgelist=G.edges(data=True), width=6, alpha=0.5, edge_color='b', style='dashed')\n",
    "\n",
    "    # labels\n",
    "    nx.draw_networkx_labels(G, pos, font_size=14, font_family='sans-serif')\n",
    "\n",
    "    plt.axis('off')\n",
    "    #plt.savefig(\"weighted_graph.png\") # save as png\n",
    "    plt.show() # display\n",
    "\n",
    "def spring_plot(G):\n",
    "    plt.figure(figsize=(10,10))\n",
    "    initial_pos = {'CA': (0.01,0.01)}\n",
    "    pos=nx.spring_layout(G, iterations=300, fixed=initial_pos.keys(), k=0.05)\n",
    "    nx.draw_networkx_nodes(G, pos, node_size=500, node_color=['r' if n == 'CA' else 'w' for n in G.nodes()])\n",
    "    nx.draw_networkx_edges(G, pos, edgelist=G.edges(data=True), width=1, style='dashed')\n",
    "    #sp = nx.shortest_path(G, 'CA', 'ME')\n",
    "    #pairs = [(u,v) for u, v in zip(sp[:-1], sp[1:])]\n",
    "    #nx.draw_networkx_edges(G, pos, edgelist=pairs, width=2, edge_color='b', style='solid')\n",
    "    nx.draw_networkx_labels(G, pos, font_size=14, font_family='sans-serif')\n",
    "    plt.axis('off')\n",
    "    plt.show()\n",
    "\n",
    "def flow_plot(G, flow):\n",
    "    plt.figure(figsize=(10,10))\n",
    "    flow_G = nx.DiGraph()\n",
    "    for u,v in G.edges():\n",
    "        if flow[u][v] > 0:\n",
    "            flow_G.add_edge(u,v)\n",
    "            \n",
    "    pos=nx.spring_layout(flow_G, k=0.05)\n",
    "    nx.draw_networkx_nodes(flow_G, pos, node_size=500, node_color=['r' if n == 'CA' else 'w' for n in G.nodes()])\n",
    "    nx.draw_networkx_labels(flow_G, pos, font_size=14, font_family='sans-serif')\n",
    "    edges = [(u,v) for u,v in flow_G.edges() if flow[u][v]>0]\n",
    "    widths = [flow[u][v] for u,v in flow_G.edges() if flow[u][v]>0]\n",
    "    nx.draw_networkx_edges(flow_G, pos, edgelist=edges, width=widths, style='solid', arrows=False)\n",
    "    #nx.draw_networkx_edge_labels(G, pos, edge_labels=[str(w) for w in widths], label_pos=0.5, font_size=10, font_color='k', font_family='sans-serif', font_weight='normal', alpha=1.0, bbox=None, ax=None, rotate=True)\n",
    "    plt.axis('off')\n",
    "    plt.show()\n",
    "\n",
    "def flow_to_graph(flow):\n",
    "    g = nx.Graph()\n",
    "    for u, vs in flow.iteritems():\n",
    "        for v, f in vs.iteritems():\n",
    "            g.add_edge(u, v, capacity=f)\n",
    "    return g\n",
    "spring_plot(G)"
   ]
  }
 ],
 "metadata": {
  "kernelspec": {
   "display_name": "Python 2",
   "language": "python",
   "name": "python2"
  },
  "language_info": {
   "codemirror_mode": {
    "name": "ipython",
    "version": 2
   },
   "file_extension": ".py",
   "mimetype": "text/x-python",
   "name": "python",
   "nbconvert_exporter": "python",
   "pygments_lexer": "ipython2",
   "version": "2.7.15"
  }
 },
 "nbformat": 4,
 "nbformat_minor": 2
}
