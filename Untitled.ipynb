{
 "cells": [
  {
   "cell_type": "code",
   "execution_count": 6,
   "metadata": {},
   "outputs": [
    {
     "name": "stdout",
     "output_type": "stream",
     "text": [
      "{'a': {'c': 0}, 'c': {'y': 0}, 'b': {'c': 0, 'd': 0}, 'e': {'y': 0}, 'd': {'e': 0}, 'y': {}, 'x': {'a': 0, 'b': 1.0}}\n",
      "['a', 'c', 'b', 'e', 'd', 'y', 'x']\n",
      "['a', 'c', 'b', 'e', 'd', 'y', 'x']\n"
     ]
    }
   ],
   "source": [
    "import networkx as nx\n",
    "G = nx.DiGraph()\n",
    "G.add_edge('x','a', capacity=3.0)\n",
    "G.add_edge('x','b', capacity=1.0)\n",
    "G.add_edge('a','c', capacity=3.0)\n",
    "G.add_edge('b','c', capacity=5.0)\n",
    "G.add_edge('b','d', capacity=4.0)\n",
    "G.add_edge('d','e', capacity=2.0)\n",
    "G.add_edge('c','y', capacity=2.0)\n",
    "G.add_edge('e','y', capacity=3.0)\n",
    "flow_value, flow_dict = nx.maximum_flow(G, 'x', 'b')\n",
    "print(flow_dict)\n",
    "print(G.nodes())\n",
    "print(flow_dict.keys())"
   ]
  },
  {
   "cell_type": "code",
   "execution_count": null,
   "metadata": {},
   "outputs": [],
   "source": []
  }
 ],
 "metadata": {
  "kernelspec": {
   "display_name": "Python 2",
   "language": "python",
   "name": "python2"
  },
  "language_info": {
   "codemirror_mode": {
    "name": "ipython",
    "version": 2
   },
   "file_extension": ".py",
   "mimetype": "text/x-python",
   "name": "python",
   "nbconvert_exporter": "python",
   "pygments_lexer": "ipython2",
   "version": "2.7.15"
  }
 },
 "nbformat": 4,
 "nbformat_minor": 2
}
