{
 "cells": [
  {
   "cell_type": "markdown",
   "metadata": {},
   "source": [
    "# Kliment Mamykin, UNI 2770\n",
    "## Algorythms for Data Science, Homework 1"
   ]
  },
  {
   "cell_type": "markdown",
   "metadata": {},
   "source": [
    "### Problem 1(a)\n",
    "\n",
    "**Process:** restate the algorythm, establish loop invariant and prove the correctness by showing that the loop invariant holds at the initialization before the loop, after each iteration of the loop, and after the termination."
   ]
  },
  {
   "cell_type": "raw",
   "metadata": {},
   "source": [
    "HORNER(A, x)\n",
    "    n = A.length\n",
    "    z = A[n]\n",
    "    for i = n-1 down to 0 do\n",
    "        z = zx + A[i]\n",
    "    end \n",
    "    return z"
   ]
  },
  {
   "cell_type": "markdown",
   "metadata": {},
   "source": [
    "**Insight:** a polynomial of order $n$ $$\n",
    "p ( x ) = a_{0} + a_{1} x + a_{2} x^{2} + \\ldots + a_{n} x^{n} = \\sum_{k=0}^{n} {a_{k}x^k}\n",
    "$$ can be re-written as \n",
    "\n",
    "\\begin{equation}\n",
    "p ( x ) = a_{0} + (a_{1} + (a_{2} + \\ldots (a_{n-1} + (a_{n})x) \\ldots )x)x\n",
    "\\end{equation}\n"
   ]
  },
  {
   "cell_type": "markdown",
   "metadata": {},
   "source": [
    "**Loop invariant**: At the start of each $i$ loop, $z$ contains the value of polynomial of order $n-(i+1)$ with coefficients $A[i+1..n]$. Mathematically \n",
    "$$\n",
    "z_i = \\sum_{k=0}^{n-(i+1)} {a_{k+i+1}x^k}\n",
    "$$"
   ]
  },
  {
   "cell_type": "markdown",
   "metadata": {},
   "source": [
    "**Initialization:** We need to prove that for $i = n-1$ the initialization value of $z=A[n]$ satisfies the loop invariant. \n",
    "\n",
    "$z$ contains the value of the polinomial of order $n - i - 1 = n - (n - 1) - 1 = 0$ with coefficients $A[i+1..n] = A[(n-1)+1..n] = A[n]$. Therefor initialization of $z = A[n]$ satisfies the loop invariant. \n",
    "\n",
    "$$\n",
    "z_{n-1} = \\sum_{k=0}^{n-(n-1+1)} {a_{k+(n-1)+1}x^k} = a_{n}x^0 = a_n\n",
    "$$\n",
    "\n",
    "**Maintenance:** At each iteration of the loop $z$ is assigned a new value to be used on the next loop iteration $z_{i-1}$ (loop is counting down) based on the value before the loop iteration $z_i$. At a particular interation $i$ we have \n",
    "\n",
    "$$\n",
    "z_{i-1} = a_i + z_{i} x = a_i + (\\sum_{k=0}^{n-(i+1)} {a_{k+i+1}x^k}) x = \\sum_{k=0}^{n-i} {a_{k+i}x^k}  = \\sum_{k=0}^{n-((i-1)+1)} {a_{k+(i-1)+1}x^k}\n",
    "$$\n",
    "\n",
    "After the loop completes, $z_{i-1}$ for the next iteration of the loop satisfies teh invariant.\n",
    "\n",
    "**Termination:** Eventually $i$ will be assigned the value $-1$, the condition of the _for_ loop fails and loop terminates. At this point $z$ contain the value of the last loop iteration at $i=0$. We need to prove that at this point $z = \\sum_{k=0}^{n} {a_{k}x^k}$ based on the invariant.\n",
    "\n",
    "$$\n",
    "z = \\sum_{k=0}^{n-(-1+1)} {a_{k+(-1)+1}x^k} = \\sum_{k=0}^{n} {a_{k}x^k}\n",
    "$$"
   ]
  },
  {
   "cell_type": "markdown",
   "metadata": {},
   "source": [
    "### Problem 1(b)\n",
    "\n",
    "Horner's rule uses $n$ multiplications and $n$ additions. Each iteration of the loop from $n-1$ to $0$ ($n$ iterations performs one addition and one multiplication.\n",
    "\n",
    "Even for a polynomial with large $n$ and all lower terms with 0 coefficients $A = [0,0,\\ldots,0,a_n]$ the naive calculation could shirtcut multiplication by 0, but the check for 0 for each coefficient would still take constant time and the naive implementation will not be more efficient then Horner's rule."
   ]
  },
  {
   "cell_type": "markdown",
   "metadata": {},
   "source": [
    "### Problem 2(a)\n"
   ]
  },
  {
   "cell_type": "code",
   "execution_count": null,
   "metadata": {},
   "outputs": [],
   "source": []
  }
 ],
 "metadata": {
  "kernelspec": {
   "display_name": "Python 2",
   "language": "python",
   "name": "python2"
  },
  "language_info": {
   "codemirror_mode": {
    "name": "ipython",
    "version": 2
   },
   "file_extension": ".py",
   "mimetype": "text/x-python",
   "name": "python",
   "nbconvert_exporter": "python",
   "pygments_lexer": "ipython2",
   "version": "2.7.15"
  }
 },
 "nbformat": 4,
 "nbformat_minor": 2
}
