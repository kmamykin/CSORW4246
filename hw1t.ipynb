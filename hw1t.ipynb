{
 "cells": [
  {
   "cell_type": "markdown",
   "metadata": {},
   "source": [
    "# Kliment Mamykin, UNI 2770\n",
    "## Algorythms for Data Science, Homework 1"
   ]
  },
  {
   "cell_type": "markdown",
   "metadata": {},
   "source": [
    "### Problem 1(a)\n",
    "\n",
    "**Process:** restate the algorythm, establish loop invariant and prove the correctness by showing that the loop invariant holds at the initialization before the loop, after each iteration of the loop, and after the termination."
   ]
  },
  {
   "cell_type": "raw",
   "metadata": {},
   "source": [
    "HORNER(A, x)\n",
    "    n = A.length\n",
    "    z = A[n]\n",
    "    for i = n-1 down to 0 do\n",
    "        z = zx + A[i]\n",
    "    end \n",
    "    return z"
   ]
  },
  {
   "cell_type": "markdown",
   "metadata": {},
   "source": [
    "**Insight:** a polynomial of order $n$ $$\n",
    "p ( x ) = a_{0} + a_{1} x + a_{2} x^{2} + \\ldots + a_{n} x^{n} = \\sum_{k=0}^{n} {a_{k}x^k}\n",
    "$$ can be re-written as \n",
    "\n",
    "\\begin{equation}\n",
    "p ( x ) = a_{0} + (a_{1} + (a_{2} + \\ldots (a_{n-1} + (a_{n})x) \\ldots )x)x\n",
    "\\end{equation}\n"
   ]
  },
  {
   "cell_type": "markdown",
   "metadata": {},
   "source": [
    "**Loop invariant**: At the start of each $i$ loop, $z$ contains the value of polynomial of order $n-(i+1)$ with coefficients $A[i+1..n]$. Mathematically \n",
    "$$\n",
    "z_i = \\sum_{k=0}^{n-(i+1)} {a_{k+i+1}x^k}\n",
    "$$"
   ]
  },
  {
   "cell_type": "markdown",
   "metadata": {},
   "source": [
    "**Initialization:** We need to prove that for $i = n-1$ the initialization value of $z=A[n]$ satisfies the loop invariant. \n",
    "\n",
    "$z$ contains the value of the polinomial of order $n - i - 1 = n - (n - 1) - 1 = 0$ with coefficients $A[i+1..n] = A[(n-1)+1..n] = A[n]$. Therefor initialization of $z = A[n]$ satisfies the loop invariant. \n",
    "\n",
    "$$\n",
    "z_{n-1} = \\sum_{k=0}^{n-(n-1+1)} {a_{k+(n-1)+1}x^k} = a_{n}x^0 = a_n\n",
    "$$\n",
    "\n",
    "**Maintenance:** At each iteration of the loop $z$ is assigned a new value to be used on the next loop iteration $z_{i-1}$ (loop is counting down) based on the value before the loop iteration $z_i$. At a particular interation $i$ we have \n",
    "\n",
    "$$\n",
    "z_{i-1} = a_i + z_{i} x = a_i + (\\sum_{k=0}^{n-(i+1)} {a_{k+i+1}x^k}) x = \\sum_{k=0}^{n-i} {a_{k+i}x^k}  = \\sum_{k=0}^{n-((i-1)+1)} {a_{k+(i-1)+1}x^k}\n",
    "$$\n",
    "\n",
    "After the loop completes, $z_{i-1}$ for the next iteration of the loop satisfies teh invariant.\n",
    "\n",
    "**Termination:** Eventually $i$ will be assigned the value $-1$, the condition of the _for_ loop fails and loop terminates. At this point $z$ contain the value of the last loop iteration at $i=0$. We need to prove that at this point $z = \\sum_{k=0}^{n} {a_{k}x^k}$ based on the invariant.\n",
    "\n",
    "$$\n",
    "z = \\sum_{k=0}^{n-(-1+1)} {a_{k+(-1)+1}x^k} = \\sum_{k=0}^{n} {a_{k}x^k}\n",
    "$$"
   ]
  },
  {
   "cell_type": "markdown",
   "metadata": {},
   "source": [
    "### Problem 1(b)\n",
    "\n",
    "Horner's rule uses $n$ multiplications and $n$ additions. Each iteration of the loop from $n-1$ to $0$ ($n$ iterations performs one addition and one multiplication.\n",
    "\n",
    "Even for a polynomial with large $n$ and all lower terms with 0 coefficients $A = [0,0,\\ldots,0,a_n]$ the naive calculation could shirtcut multiplication by 0, but the check for 0 for each coefficient would still take constant time and the naive implementation will not be more efficient then Horner's rule implementation."
   ]
  },
  {
   "cell_type": "markdown",
   "metadata": {},
   "source": [
    "### Problem 2(a)\n"
   ]
  },
  {
   "cell_type": "raw",
   "metadata": {},
   "source": [
    " 1 Hadamand(v)\n",
    " 2    // input: v is a vector of length n, n=2**k, where k is an integer\n",
    " 3    // output: returns a product of Hadamand matrix of size n and vector v\n",
    " 4    // Use divide and conquer algorithm\n",
    " 5    if n == 1 return [1]\n",
    " 6    v_high, v_low = partition(v) // split vector of size 2**k into two halfs of size 2**(k-1)\n",
    " 7    h_high = Hadamand(v_high) // recursive call on vector size n/2\n",
    " 8    h_low  = Hadamand(v_low)  // recursive call on vector size n/2\n",
    " 9    result_high = vector_add(h_high, h_low)\n",
    "10    result_low  = vector_subtract(h_high, h_low)\n",
    "11    return concatenate(result_high, result_low)\n",
    "    "
   ]
  },
  {
   "cell_type": "markdown",
   "metadata": {},
   "source": [
    "**Correctness proof**\n",
    "\n",
    "First use the fact that for any matrix $A$, its product with a vector $v$ can be expressed through blocks of partitioned matrix $A$ and partitioned vector $v$. This is a special case of a partitioned (block) matrices product rule (see ref 1).\n",
    "\n",
    "$$\n",
    "\\begin{equation}\n",
    "A v \n",
    "= \n",
    "\\left[ \\begin{array} { c | c } A_{11} & A_{12} \\\\ \\hline A_{21} & A_{22} \\end{array} \\right] \n",
    "\\left[ \\begin{array} { c } v_{1} \\\\ \\hline v_{2} \\end{array} \\right]\n",
    "= \n",
    "\\left[ \\begin{array} { c } A_{11} v_{1} + A_{12} v_{2} \\\\ \\hline A_{21} v_{1} + A_{22} v_{2} \\end{array} \\right]\n",
    "\\end{equation}\n",
    "$$\n"
   ]
  },
  {
   "cell_type": "markdown",
   "metadata": {},
   "source": [
    "Now we prove by induction the correctness of the `Hadamand(v)` algorithm.\n",
    "\n",
    "Let $v^{h}$ and $v^{l}$ be the high and the low part of the vector $v$ partitioned into 2 halves.\n",
    "\n",
    "**Proposition** $P(k)$ - this is the essence of the proposed algorithm, which recursively calculates lower order Hadamand product of high and low halves of vector $v$ and then computes the sum and difference of those vectors.  \n",
    "\n",
    "$$\n",
    "H_{k} v = \\left[ \\begin{array} { c } H_{k-1} v^{h} + H_{k-1} v^{l} \\\\ H_{k-1} v^{h} - H_{k-1} v^{l} \\end{array} \\right], \\forall k > 0\n",
    "$$\n",
    "\n",
    "**Base Case:** for $k = 1$, matrix $H_1$ is size 2, vector $v$ is size 2. Matrix $H_0 = [1]$ by definition of Hadamand matrix.\n",
    "$$\n",
    "H_{1} v \n",
    "= \n",
    "\\left[ \\begin{array} { r r } 1 & 1 \\\\ 1 & -1 \\end{array} \\right] \n",
    "\\left[ \\begin{array} { c } v_{1} \\\\ v_{2} \\end{array} \\right]\n",
    "= \n",
    "\\left[ \\begin{array} { c } v_{1} + v_{2} \\\\ v_{1} - v_{2} \\end{array} \\right]\n",
    "= \n",
    "\\left[ \\begin{array} { c } H_{0} v_{1} + H_{0} v_{2} \\\\ H_{0} v_{1} - H_{0} v_{2} \\end{array} \\right]\n",
    "$$\n",
    "\n",
    "**Inductive step:** for $k > 1$ assume $P(k-1)$ is correct. Need to prove that $P(k)$ is also correct.\n",
    "\n",
    "$$\n",
    "\\begin{align}\n",
    "H_{k} v \n",
    "&= \n",
    "\\left[ \\begin{array} { r r } H_{k-1} & H_{k-1} \\\\ H_{k-1} & -H_{k-1} \\end{array} \\right] \n",
    "\\left[ \\begin{array} { c } v^{h} \\\\ v^{l} \\end{array} \\right], \\text { expanded Hadamand matrix definition and partitioned vector v into halves} \\\\\n",
    "&= \n",
    "\\left[ \\begin{array} { c } H_{k-1} v^{h} + H_{k-1} v^{l} \\\\ H_{k-1} v^{h} - H_{k-1} v^{l} \\end{array} \\right], \\text { using partitioned matrix/vector product rule } \\\\\n",
    "\\end{align}\n",
    "$$\n",
    "\n",
    "Proposition holds true for $k$.\n"
   ]
  },
  {
   "cell_type": "markdown",
   "metadata": {},
   "source": [
    "**Running time T(n)**\n",
    "\n",
    "line 5: $\\Theta(1)$\n",
    "\n",
    "line 6: $\\Theta(n)$ - partitioning a vector involves copy of all elements in vector into 2 subvectors, done in linear time\n",
    "\n",
    "line 7: $T(n/2)$ - recursive call on a vector with half of the size\n",
    "\n",
    "line 8: $T(n/2)$ - recursive call on a vector with half of the size\n",
    "\n",
    "line 9: $cn/2 = \\Theta(n)$ - vector addition is done in linear time\n",
    "\n",
    "line 10: $cn/2 = \\Theta(n)$ - vector subtract is done in linear time\n",
    "\n",
    "line 11: $\\Theta(n)$ - copy all elements into resulting vector of size n\n",
    "\n",
    "Combined running time: $T(n) = 2T(n/2) + \\Theta(n)$\n",
    "\n",
    "Using Master theorem with $a = 2, b = 2, f(n) = \\Theta(n)$, we conclude that the running time of our algorithm is $T(n) = O(n\\log{n})$\n"
   ]
  },
  {
   "cell_type": "markdown",
   "metadata": {},
   "source": [
    "**References**\n",
    "1. Block matrix (https://en.wikipedia.org/wiki/Block_matrix)"
   ]
  },
  {
   "cell_type": "code",
   "execution_count": null,
   "metadata": {},
   "outputs": [],
   "source": []
  }
 ],
 "metadata": {
  "kernelspec": {
   "display_name": "Python 2",
   "language": "python",
   "name": "python2"
  },
  "language_info": {
   "codemirror_mode": {
    "name": "ipython",
    "version": 2
   },
   "file_extension": ".py",
   "mimetype": "text/x-python",
   "name": "python",
   "nbconvert_exporter": "python",
   "pygments_lexer": "ipython2",
   "version": "2.7.15"
  }
 },
 "nbformat": 4,
 "nbformat_minor": 2
}
