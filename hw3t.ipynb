{
 "cells": [
  {
   "cell_type": "markdown",
   "metadata": {},
   "source": [
    "# Kliment Mamykin, UNI 2770\n",
    "## Algorithms for Data Science, Homework 3"
   ]
  },
  {
   "cell_type": "markdown",
   "metadata": {},
   "source": [
    "### Problem 1\n",
    "\n",
    "See last page\n"
   ]
  },
  {
   "cell_type": "markdown",
   "metadata": {},
   "source": [
    "### Problem 2\n",
    "\n",
    "i. Derive a necessary condition for a feasible circulation with demands to exist.\n",
    "\n",
    "Given the demand constraints $v \\in V, \\; f^{in}(v) - f^{out}(v) = d_v$ we can sum up both sides of the equation for all nodes in the network:\n",
    "\n",
    "$$\n",
    "\\begin{equation}\n",
    "\\sum_{v \\in V} \\left( f^{in}(v) - f^{out}(v) \\right) = \\sum_{v \\in V} d_v\n",
    "\\end{equation}\n",
    "$$\n",
    "\n",
    "Since each directed edge contributes the same in-flow into some node and the same out-flow from another node, we can expand and re-arrange all terms on the left side, combining together $f^{in}$ and $f^{out}$ of the same edge.\n",
    "\n",
    "$$\n",
    "\\begin{equation}\n",
    "\\sum_{(u,v) \\in E} \\left( f^{in}(v) - f^{out}(u) \\right) = 0 = \\sum_{v \\in V} d_v\n",
    "\\end{equation}\n",
    "$$\n",
    "\n",
    "So the necessary condition for a circulation to exist is $\\sum_{v \\in V} d_v = 0$\n",
    "\n",
    "ii. The problem can be transformed into Max Flow problem by augmenting the network in the following way:\n",
    "\n",
    "* Add a source node $s$ and a sink node $t$\n",
    "* Add edges from $s$ to each node in $S$ with capacity $c = |d_v|$. Since $d_v$ for source nodes in negative, meaning in-flow is less then out-flow, adding an extra in-flow from $s$ \"plugs the hole\", preserving the flow.\n",
    "* Add edges from each node in $T$ to $t$ node, with capacity $c = |d_v|$. This similarily preserves the flow at each node.\n",
    "\n",
    "With these augmentation we convert the demand network into a flow graph, converting the demand constraint into the flow presenvation constraint.\n",
    "\n",
    "A feasible demand circulation will exist iif there exist an s-t flow in the augmented graph with $max \\, |f| = \\sum_{v \\in S} |d_v|$\n"
   ]
  },
  {
   "cell_type": "markdown",
   "metadata": {},
   "source": [
    "### Problem 3\n",
    "\n",
    "(a) Show that a min-cost problem can be converted to a max flow problem.\n",
    "\n",
    "Here we also need to augment the supply network by introducing two nodes $s$ and $t$, and connecting $s$ with each source node $v$ with an edge with capacity $c_{s,v} = s_v$. Then connect each sink node $v$ with $t$ with an edge with capacity $c_{v,t} = |s_v|$. All introduced edges would have 0 cost to exclude then from affecting the min-cost solution. This converts the supply network to s-t graph. If there is a flow possible in the supply network, then there must be a max flow in the graph such that all edges coming out of $s$ are filled to capasity. \n",
    "\n",
    "$$\n",
    "\\begin{equation}\n",
    "f_{sj} = c_{sj} \\;\\; \\forall (s,j) \\in E\n",
    "\\end{equation}\n",
    "$$\n",
    "\n",
    "The problem of max-flow in this graph is related to the min-cost problem in the folowing way. When calculating max flow, on each iteration of the algorithm we compute the resigual graph, then pick an augmenting path, and augment the flow. Since augmenting path has a positive non-zero capacity on each iteration the graph flow will increase. When solving a min-cost problem we could compute resudual graph for the costs, and pick an augmenting path that reduces the cost of flow, and augment the flow. Then at some point we will reach a min-cost flow.\n",
    "\n",
    "When calculating resigual graph, the reverse flow edges (that undo/push back flow) would have the negative cost of the forward edge (so that edge not only pushes back the flow, but also reduces the cost). I am stuck figuring out how to calculate the augmenting path in this case.\n",
    "\n",
    "(b) min-cost LP formulation:\n",
    "\n",
    "Variables: $f_{ij}, (i,j) \\in E$, $m$ variables.\n",
    "\n",
    "$$\n",
    "\\begin{equation}\n",
    "\\min_{f_{ij} \\ge 0, a_{ij} \\ge 0}  \\sum_{(i,j) \\in E} a_{ij} f_{ij}\n",
    "\\end{equation}\n",
    "$$\n",
    "\n",
    "Capacity constraints ($m$ constraints):\n",
    "\n",
    "$$\n",
    "\\begin{equation}\n",
    "f_{ij} \\le c_{ij}, \\forall (i,j) \\in E\n",
    "\\end{equation}\n",
    "$$\n",
    "\n",
    "Supply constraint ($n$ constraints):\n",
    "\n",
    "$$\n",
    "\\begin{equation}\n",
    "\\sum_{j|(v,j) \\in E} f_{vj} - \\sum_{j|(j,v) \\in E} f_{jv} = s_v \\;\\;\\; ,\\forall v \\in V\n",
    "\\end{equation}\n",
    "$$\n",
    "\n",
    "\n"
   ]
  },
  {
   "cell_type": "markdown",
   "metadata": {},
   "source": [
    "### Problem 4\n",
    "\n",
    "#### Minimizing the number of rolls cut with known cut patterns\n",
    "\n",
    "There are only 12 cut patterns a 300cm roll can be cut into rolls of widths 135, 108, 93, 42 minimizing waste/maximizing usage:"
   ]
  },
  {
   "cell_type": "markdown",
   "metadata": {},
   "source": [
    "<img src=\"images/cut-patterns.png\" width=\"500px\">"
   ]
  },
  {
   "cell_type": "markdown",
   "metadata": {},
   "source": [
    "Let $w = [135, 108, 93, 42]$ be an array of widths of desired rolls, $d = [97, 610, 395, 211]$ be an array of the minimum number of desired rolls of corresponding width, $R_{ij}$ be a matrix of number of resulting rolls of each width possible to cut with minimum waste, where $i$ is a cut pattern index and $j$ is the index of the roll width used. \n",
    "\n",
    "Then the problem can be formalized as an LP problem:\n",
    "\n",
    "Variables: $x_i, 1 \\le i \\le 12$ (12 variables) the number of 300cm rolls cut with cut pattern $i$.\n",
    "\n",
    "Objective function - minimize the number of rolls used:\n",
    "$$\n",
    "\\begin{equation}\n",
    "    min_{x_i \\ge 0} \\sum_{i=1}^{12} x_i\n",
    "\\end{equation}\n",
    "$$\n",
    "\n",
    "Constraints - satisfy customer demand:\n",
    "$$\n",
    "\\begin{equation}\n",
    "    \\sum_{i=1}^{12} x_i R_{ij} \\ge d_j \\; 1 \\le j \\le 4 \n",
    "\\end{equation}\n",
    "$$"
   ]
  }
 ],
 "metadata": {
  "kernelspec": {
   "display_name": "Python 2",
   "language": "python",
   "name": "python2"
  },
  "language_info": {
   "codemirror_mode": {
    "name": "ipython",
    "version": 2
   },
   "file_extension": ".py",
   "mimetype": "text/x-python",
   "name": "python",
   "nbconvert_exporter": "python",
   "pygments_lexer": "ipython2",
   "version": "2.7.15"
  }
 },
 "nbformat": 4,
 "nbformat_minor": 2
}
