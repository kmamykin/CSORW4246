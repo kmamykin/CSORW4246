{
 "cells": [
  {
   "cell_type": "markdown",
   "metadata": {},
   "source": [
    "# Kliment Mamykin, UNI 2770\n",
    "## Algorithms for Data Science, Homework 4"
   ]
  },
  {
   "cell_type": "markdown",
   "metadata": {},
   "source": [
    "### Problem 1\n",
    "\n",
    "In a directed weighted and capacitated graph $G = (V, E, C, W)$, define a \"extra\" edge set $D$ as edges that connect nodes already connected by some other edge. Those are the edges (in $D$) that need to be addressed in the following transformation.\n",
    "\n",
    "Main idea: In solving a min cost flow problem, any edge in the directed graph can be replaced with two sequential edges by introducing a supplementary node and setting the capacities and costs of the edges as described next. If the equivalence is proven, then each edge that is in the \"extra\" edge set $D$ can be split into two, resulting in a graph with at most one edge between each two nodes. Such graph can be used in the known algos (such as LP) in finding min cost flow that will be equivalent to the original graph.\n",
    "\n",
    "Consider any edge $e:(u,v) \\in E$ with capacity $C_{u,v}$ and cost/weight $W_{u,v}$. Introduce a supplementary node $k$ with 0 demand/supply value and replace edge $(u,v)$ with two sequential edges $(u,k)$ and $(k,v)$. Set capacity $C_{u,k} = C_{k,v} = C_{u,v}$. Set weights such that $W_{u,k} + W_{k,v} = W_{u,v}$, for example $W_{u,k} = W_{k,v} = W_{u,v}/2$. Such transformation:\n",
    "\n",
    "a) removes direct connection from $u$ to $v$ by construction\n",
    "\n",
    "b) preserves the avaliable capacity of the flow between $u$ and $v$ by construction\n",
    "\n",
    "c) preserves the cost of flow from $u$ to $v$. In the original graph the cost of flow is $W_{u,v}f_{u,v}$, in the transformed graph both introduced edges contribute to the cost. Both edges have the same flow value (due to the flow preservation constraint at node $k$). Both edges together cost $W_{u,k}f_{u,k} + W_{k,v}f_{k,v} = W_{u,k}f_{u,v} + W_{k,v}f_{u,v} = (W_{u,k} + W_{k,v})f_{u,v} = W_{u,v}f_{u,v}$\n",
    "\n",
    "and therefore is equivalent to the original graph when solving for the min cost flow.\n",
    "\n",
    "Final reduction: for every edge in $D$ replace with two edges as described above.\n",
    "\n",
    "Note: Theoretically, every edge in the original can be split into two, but it will introduce a lot of unnecessary edges (and variables in the corresponding LP formulation), so practically only extra edges for any two nodes need splitting.\n",
    "\n",
    "Note: There are a couple of ways to split the weights between two new edges, e.g. $W_{u,k} = 1, W_{k,v} = W_{u,v} - 1$ might work, but that assumes the original weight to be at least 1 (so no negative weights introduced). However a split with one edge weight = 0 will work $W_{u,k} = 0, W_{k,v} = W_{u,v}$ for all weights.\n"
   ]
  },
  {
   "cell_type": "markdown",
   "metadata": {},
   "source": [
    "### Problem 2\n",
    "\n",
    "Define $Min Monotone$ problem: given a monotone formula $\\phi^m$ in CNF, what is the minimal number of variables that need to be set to True to satisfy the formula.\n",
    "\n",
    "Decision version of the problem $Monotone(D): (\\phi^m, k) \\implies yes/no$, given a $\\phi^m$ and a target $k$, is there a truth assignment with at most $k$ true variables that satisfies $\\phi^m$.\n",
    "\n",
    "$Monotone(D)$ is a NP problem: We can define a certifier $B(x, t)$ where x is an instance of $Monotone(D)$ problem $(\\phi^m, k)$ and $t$ is a truth assignment for variables. Validation can be performed in poly time first by comparing the number of truth vars in $t$ to $k$, and then evaluating the formula $\\phi^m$ with $t$ (can be done in poly time). The size of $|t| \\le p(|x|)$ - the size of the truth assignment is at most $n$ elements (given $\\phi^m$ having $n$ variables, $m$ clauses).\n",
    "\n",
    "$Monotone(D)$ is a NP-hard: We can reduce a arbitrary instance of $VC(D)$ (NP-complete) problem to a $Monotone(D)$ problem and show $VC(D) \\le p\\,Monotone(D)$\n",
    "\n",
    "Proof: Given an instance $a = (G, k)$ of $VC(D)$, transform it to an instance $b = (\\phi^m, k)$ of $Monotone(D)$ like follows. Define a variable $x_i$ for each node in graph $G$, and group them in clauses of two literals, one clause for each edge in $G$. For example a graph with edges $\\{ (1,2), (2,3), (3,4), (4,1) \\}$ \n",
    "will be transformed to a monotonic formula $\\phi^m = (x_1 \\lor x_2) \\land (x_2 \\lor x_3) \\land (x_3 \\lor x_4) \\land (x_4 \\lor x_1)$. This reduction can be done in poly time $O(|E|)$.\n",
    "\n",
    "Now, given a solution to $a$, which is a set of vertices $S$ of size $|S| = k$, form a solution to $b$ by setting $x_i$ to true iif the node $i \\in S$. Since the vertices in $S$ form a vertice cover, for every edge in $G$ there is at least one node that is in $S$, and by construction of the formula every clause will have at least one literal evaluating to true, and the whole formula will evaluate to true. \n",
    "\n",
    "Given a solution to problem $b$, which is a truth assignment, that follows that at least one of the literals in each clause evaluates to true. And by construction at least one of nodes in each graph edge is selected in the set $S$, covering each edge. \n",
    "\n",
    "This reduction proves that $VC(D) \\le p\\,Monotone(D)$, and $Monotone(D) \\in NP$, therefore $Monotone(D)$ is NP-complete.\n"
   ]
  },
  {
   "cell_type": "code",
   "execution_count": null,
   "metadata": {},
   "outputs": [],
   "source": []
  }
 ],
 "metadata": {
  "kernelspec": {
   "display_name": "Python 2",
   "language": "python",
   "name": "python2"
  },
  "language_info": {
   "codemirror_mode": {
    "name": "ipython",
    "version": 2
   },
   "file_extension": ".py",
   "mimetype": "text/x-python",
   "name": "python",
   "nbconvert_exporter": "python",
   "pygments_lexer": "ipython2",
   "version": "2.7.15"
  }
 },
 "nbformat": 4,
 "nbformat_minor": 2
}
