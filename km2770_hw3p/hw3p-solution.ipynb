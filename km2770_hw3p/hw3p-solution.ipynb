{
 "cells": [
  {
   "cell_type": "markdown",
   "metadata": {},
   "source": [
    "# Max Flow Applications\n",
    "\n",
    "The purpose of this assignment is to investigate applications of finding a Max Flow. The problem asks you to design and implement an algorithm for shipping a material between nodes with different supply and demand requirements.\n",
    "\n",
    "* Please write code *only* in the bodies of the two functions, that is, following the TODO comments.\n",
    "* Be careful not to use varibles defined outside of the functions.\n",
    "* Breaking the two above rules may lead to 0 grades."
   ]
  },
  {
   "cell_type": "markdown",
   "metadata": {},
   "source": [
    "## Movie distribution\n",
    "\n",
    "First solve Problem 2 from hw3-t. \n",
    "\n",
    "Now suppose a movie distributor would like to ship a copy of a film from CA to every other state. There are therefore 48 units to ship out of CA, and each other state receives 1 unit. \n",
    "\n",
    "The dataset contiguous-usa.dat lists the adjacent states in the US. Each line lists two adjacent states; thus AK and HI are omitted, but DC is included in the data. The following code reads in the graph of US states."
   ]
  },
  {
   "cell_type": "code",
   "execution_count": 1,
   "metadata": {},
   "outputs": [],
   "source": [
    "import networkx as nx\n",
    "G = nx.Graph()\n",
    "\n",
    "usa = open('contiguous-usa.dat')\n",
    "for line in usa:\n",
    "    s1, s2 = line.strip().split()\n",
    "    G.add_edge(s1, s2)"
   ]
  },
  {
   "cell_type": "markdown",
   "metadata": {},
   "source": [
    "We now encode the demands into the graph."
   ]
  },
  {
   "cell_type": "code",
   "execution_count": 2,
   "metadata": {},
   "outputs": [],
   "source": [
    "for state in G.nodes():\n",
    "    if state != 'CA':\n",
    "        G.node[state]['demand'] = 1\n",
    "G.node['CA']['demand'] = -48"
   ]
  },
  {
   "cell_type": "markdown",
   "metadata": {},
   "source": [
    "We will assign a uniform capacity of 16 to each edge. Since CA has only three adjacent states, this is the smallest possible uniform capacity that allows one to ship all 48 units out of CA. As we have created an undirected graph, and flows have directions, we first convert the graph to a directed graph."
   ]
  },
  {
   "cell_type": "code",
   "execution_count": 3,
   "metadata": {},
   "outputs": [],
   "source": [
    "G = nx.DiGraph(G)\n",
    "uniform_capacity = 16\n",
    "for (s1, s2) in G.edges():\n",
    "    G.edge[s1][s2]['capacity'] = uniform_capacity"
   ]
  },
  {
   "cell_type": "markdown",
   "metadata": {},
   "source": [
    "Complete the following function to implement your algorithm to find a flow with demands. Your function should work correctly for any input, not just the movie instance considered here. As always, you are encouraged to define auxiliary functions as needed for clarity."
   ]
  },
  {
   "cell_type": "code",
   "execution_count": 4,
   "metadata": {},
   "outputs": [],
   "source": [
    "def flow_with_demands(graph):\n",
    "    \"\"\"Computes a flow with demands over the given graph.\n",
    "    \n",
    "    Args:\n",
    "        graph: A directed graph with nodes annotated with 'demand' properties and edges annotated with 'capacity' \n",
    "            properties.\n",
    "        \n",
    "    Returns:\n",
    "        A dict of dicts containing the flow on each edge. For instance, flow[s1][s2] should provide the flow along\n",
    "        edge (s1, s2).\n",
    "        \n",
    "    Raises:\n",
    "        NetworkXUnfeasible: An error is thrown if there is no flow satisfying the demands.\n",
    "    \"\"\"\n",
    "    def add_source_and_sink(orig_graph):\n",
    "        \"\"\"Returns a new graph with s,t nodes added and edges from s to supply nodes and from demand nodes to t\"\"\"\n",
    "        graph = orig_graph.copy() # always work with a copy, modifying original is a bad practice\n",
    "        s = 's_long_string_not_to_conflict_with_any_preexisting_node'\n",
    "        t = 't_long_string_not_to_conflict_with_any_preexisting_node'\n",
    "        for node, props in graph.nodes(data=True):\n",
    "            if props['demand'] < 0:\n",
    "                graph.add_edge(s, node, capacity=abs(props['demand']))\n",
    "            elif props['demand'] > 0:\n",
    "                graph.add_edge(node, t, capacity=props['demand'])\n",
    "        return graph, s, t\n",
    "    \n",
    "    def remove_source_and_sink_from_flow(flow, s, t):\n",
    "        \"\"\"Removes nodes s and t from flow (from top dict and inside dicts)\"\"\"\n",
    "        def without(d, keys):\n",
    "            return { u:d[u] for u in d if not u in keys }\n",
    "        return {k:without(flow[k], [s,t]) for k in without(flow, [s,t])}\n",
    "    \n",
    "    def full_capacity(g, s):\n",
    "        \"\"\"Full capacity of edges coming out of s\"\"\"\n",
    "        return sum([props['capacity'] for _, _, props in g.edges(s, data=True)])\n",
    "                \n",
    "    augmented_G, s, t = add_source_and_sink(graph)\n",
    "    # Using standard NetworkX maximum_flow implementation\n",
    "    max_flow_value, flow_dict = nx.maximum_flow(augmented_G, s, t)\n",
    "    if max_flow_value < full_capacity(augmented_G, s):\n",
    "        raise nx.NetworkXUnfeasible(\"There is no flow satisfying the demands\")\n",
    "    return remove_source_and_sink_from_flow(flow_dict, s, t)"
   ]
  },
  {
   "cell_type": "markdown",
   "metadata": {},
   "source": [
    "To verify that your solution is correct, implement a function that computes the total flow into each node (which will be negative for supply nodes)."
   ]
  },
  {
   "cell_type": "code",
   "execution_count": 5,
   "metadata": {},
   "outputs": [],
   "source": [
    "def divergence(flow):\n",
    "    \"\"\"Computes the total flow into each node according to the given flow dict.\n",
    "    \n",
    "    Args:\n",
    "        flow: the flow dict recording flow between nodes.\n",
    "        \n",
    "    Returns:\n",
    "        A dict of the net flow into each node.\n",
    "    \"\"\"\n",
    "    # Assumption: flow keys should be a set of all nodes.\n",
    "    div = {node:0 for node in flow.keys()}\n",
    "    for u, neighbors in flow.iteritems():\n",
    "        for v, f in neighbors.iteritems():\n",
    "            div[u] = div[u] - f\n",
    "            div[v] = div[v] + f\n",
    "    return div\n",
    "    "
   ]
  },
  {
   "cell_type": "markdown",
   "metadata": {},
   "source": [
    "The following code performs a sanity check on your function (but does not completely confirm correctness)."
   ]
  },
  {
   "cell_type": "code",
   "execution_count": 6,
   "metadata": {},
   "outputs": [
    {
     "name": "stdout",
     "output_type": "stream",
     "text": [
      "Flow satisfies all demands: True\n"
     ]
    }
   ],
   "source": [
    "flow = flow_with_demands(G)\n",
    "div = divergence(flow)\n",
    "print \"Flow satisfies all demands:\", all(div[n] == G.node[n]['demand'] for n in G.nodes())"
   ]
  }
 ],
 "metadata": {
  "kernelspec": {
   "display_name": "Python 2",
   "language": "python",
   "name": "python2"
  },
  "language_info": {
   "codemirror_mode": {
    "name": "ipython",
    "version": 2
   },
   "file_extension": ".py",
   "mimetype": "text/x-python",
   "name": "python",
   "nbconvert_exporter": "python",
   "pygments_lexer": "ipython2",
   "version": "2.7.15"
  }
 },
 "nbformat": 4,
 "nbformat_minor": 1
}
